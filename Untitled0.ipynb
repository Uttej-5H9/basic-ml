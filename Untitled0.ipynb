{
  "nbformat": 4,
  "nbformat_minor": 0,
  "metadata": {
    "colab": {
      "name": "Untitled0.ipynb",
      "provenance": [],
      "collapsed_sections": [],
      "authorship_tag": "ABX9TyODkOlBeUpLATNeIpGBlBeB",
      "include_colab_link": true
    },
    "kernelspec": {
      "name": "python3",
      "display_name": "Python 3"
    },
    "language_info": {
      "name": "python"
    }
  },
  "cells": [
    {
      "cell_type": "markdown",
      "metadata": {
        "id": "view-in-github",
        "colab_type": "text"
      },
      "source": [
        "<a href=\"https://colab.research.google.com/github/uttej777/basic-ml/blob/main/Untitled0.ipynb\" target=\"_parent\"><img src=\"https://colab.research.google.com/assets/colab-badge.svg\" alt=\"Open In Colab\"/></a>"
      ]
    },
    {
      "cell_type": "markdown",
      "metadata": {
        "id": "EaZlRfQ55Ivc"
      },
      "source": [
        "Reverse a number using Python while loop"
      ]
    },
    {
      "cell_type": "code",
      "metadata": {
        "colab": {
          "base_uri": "https://localhost:8080/"
        },
        "id": "6tchqCUC3_yO",
        "outputId": "82b2d48f-81e1-41ff-be51-6f77696c92bf"
      },
      "source": [
        "number = int(input(\"Enter the integer number: \"))    \n",
        "revs_number = 0  \n",
        "while (number > 0):  \n",
        "    # Logic  \n",
        "    remainder = number % 10  \n",
        "    revs_number = (revs_number * 10) + remainder  \n",
        "    number = number // 10\n",
        "print(\"The reverse number is : {}\".format(revs_number))"
      ],
      "execution_count": 1,
      "outputs": [
        {
          "output_type": "stream",
          "text": [
            "Enter the integer number: 1234\n",
            "The reverse number is : 4321\n"
          ],
          "name": "stdout"
        }
      ]
    },
    {
      "cell_type": "markdown",
      "metadata": {
        "id": "VT9EP7yY5Hll"
      },
      "source": [
        "Program to print the sum of the given list\n",
        "\n",
        "\n"
      ]
    },
    {
      "cell_type": "code",
      "metadata": {
        "colab": {
          "base_uri": "https://localhost:8080/"
        },
        "id": "U_fZgpzX433f",
        "outputId": "2834853a-c09f-4d3a-d571-360aa94df62a"
      },
      "source": [
        "list = [10,30,23,43,65,12]  \n",
        "sum = 0  \n",
        "for i in list:  \n",
        "    sum = sum+i  \n",
        "print(\"The sum is:\",sum)"
      ],
      "execution_count": 2,
      "outputs": [
        {
          "output_type": "stream",
          "text": [
            "The sum is: 183\n"
          ],
          "name": "stdout"
        }
      ]
    },
    {
      "cell_type": "markdown",
      "metadata": {
        "id": "NiaDQvtT5kBq"
      },
      "source": [
        "break statement with while loop"
      ]
    },
    {
      "cell_type": "code",
      "metadata": {
        "colab": {
          "base_uri": "https://localhost:8080/"
        },
        "id": "vkKnLgkb5GMN",
        "outputId": "cd349b9c-c734-4181-a7fa-71881c063623"
      },
      "source": [
        "n=2  \n",
        "while 1:  \n",
        "    i=1;  \n",
        "    while i<=10:  \n",
        "        print(\"%d X %d = %d\\n\"%(n,i,n*i));  \n",
        "        i = i+1;  \n",
        "    choice = int(input(\"Do you want to continue printing the table, press 0 for no?\"))  \n",
        "    if choice == 0:  \n",
        "        break;      \n",
        "    n=n+1  "
      ],
      "execution_count": null,
      "outputs": [
        {
          "output_type": "stream",
          "text": [
            "2 X 1 = 2\n",
            "\n",
            "2 X 2 = 4\n",
            "\n",
            "2 X 3 = 6\n",
            "\n",
            "2 X 4 = 8\n",
            "\n",
            "2 X 5 = 10\n",
            "\n",
            "2 X 6 = 12\n",
            "\n",
            "2 X 7 = 14\n",
            "\n",
            "2 X 8 = 16\n",
            "\n",
            "2 X 9 = 18\n",
            "\n",
            "2 X 10 = 20\n",
            "\n"
          ],
          "name": "stdout"
        }
      ]
    }
  ]
}